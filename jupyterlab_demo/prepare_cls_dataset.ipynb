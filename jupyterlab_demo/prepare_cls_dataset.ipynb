{
 "cells": [
  {
   "cell_type": "code",
   "execution_count": null,
   "id": "df706daf",
   "metadata": {},
   "outputs": [],
   "source": [
    "from datasets import load_dataset, concatenate_datasets\n",
    "import numpy as np\n",
    "from pathlib import Path\n",
    "from sklearn.model_selection import train_test_split"
   ]
  },
  {
   "cell_type": "code",
   "execution_count": null,
   "id": "5c28b9d9-6ecc-4bf2-95ca-45d343e7d07e",
   "metadata": {},
   "outputs": [],
   "source": [
    "subset_size = 0.25\n",
    "label_name = \"label\"\n",
    "seed = 42"
   ]
  },
  {
   "cell_type": "markdown",
   "id": "ab6a5419",
   "metadata": {
    "tags": []
   },
   "source": [
    "Load CLS dataset from Huggingface Hub"
   ]
  },
  {
   "cell_type": "code",
   "execution_count": null,
   "id": "8b1af375",
   "metadata": {},
   "outputs": [],
   "source": [
    "_ds = load_dataset(\"ag_news\")\n",
    "train, test = _ds[\"train\"], _ds[\"test\"]\n",
    "id2label = {i: val for i, val in enumerate(train.features[label_name].names)}"
   ]
  },
  {
   "cell_type": "markdown",
   "id": "b1be8519-89e7-4ec7-8ccd-9dbc0d895393",
   "metadata": {},
   "source": [
    "Create a subset of training dataset, if necessary  "
   ]
  },
  {
   "cell_type": "code",
   "execution_count": null,
   "id": "1a6883ac-0942-4631-bda7-bf149418bf93",
   "metadata": {},
   "outputs": [],
   "source": [
    "kwargs = {\"random_state\": seed, \"stratify\": train[label_name]}\n",
    "random_train_idx = train_test_split(\n",
    "    range(len(train)), train_size=subset_size, **kwargs\n",
    ")[0]\n",
    "train = train.select(random_train_idx)"
   ]
  },
  {
   "cell_type": "code",
   "execution_count": null,
   "id": "803aa36d",
   "metadata": {},
   "outputs": [],
   "source": [
    "!mkdir -p ./data/CLS/ag_news"
   ]
  },
  {
   "cell_type": "markdown",
   "id": "d341301d",
   "metadata": {},
   "source": [
    "Create seed dataset by randomly preserving labels for N texts from train set"
   ]
  },
  {
   "cell_type": "code",
   "execution_count": null,
   "id": "cb1404fc",
   "metadata": {},
   "outputs": [],
   "source": [
    "labeled, unlabeled = train.train_test_split(train_size=200).values()\n",
    "unlabeled = unlabeled.remove_columns('label')\n",
    "\n",
    "data_path = './data/CLS/ag_news/' \n",
    "\n",
    "labeled.to_json(Path(data_path) / 'labeled.json')\n",
    "unlabeled.to_json(Path(data_path) / 'unlabeled.json')\n",
    "test.to_json(Path(data_path) / 'test.json')"
   ]
  },
  {
   "cell_type": "code",
   "execution_count": null,
   "id": "af285438-8666-4574-8b52-cb854566f227",
   "metadata": {},
   "outputs": [],
   "source": [
    "import json\n",
    "\n",
    "with open(Path(data_path) / 'tags.json', 'w') as f:\n",
    "    json.dump(labeled.features['label'].names, f)"
   ]
  }
 ],
 "metadata": {
  "kernelspec": {
   "display_name": "Python 3 (ipykernel)",
   "language": "python",
   "name": "python3"
  },
  "language_info": {
   "codemirror_mode": {
    "name": "ipython",
    "version": 3
   },
   "file_extension": ".py",
   "mimetype": "text/x-python",
   "name": "python",
   "nbconvert_exporter": "python",
   "pygments_lexer": "ipython3",
   "version": "3.7.12"
  }
 },
 "nbformat": 4,
 "nbformat_minor": 5
}
