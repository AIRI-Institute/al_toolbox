{
 "cells": [
  {
   "cell_type": "markdown",
   "metadata": {
    "pycharm": {
     "name": "#%% md\n"
    }
   },
   "source": [
    "# ALToolbox Demo for NER\n",
    "Example notebooks of annotation for different NLP tasks:\n",
    "- [Example of annotation for NER task](ner_demo.ipynb)\n",
    "- [Example of annotation for text classification task](cls_demo.ipynb)\n",
    "\n",
    "To use custom data in these notebooks you could use following notebooks:\n",
    "- [Prepare data for token classification tasks](prepare_ner_dataset.ipynb)\n",
    "- [Prepare data for text classification_tasks](prepare_cls_dataset.ipynb)\n",
    "\n",
    "To benchmark a novel query stategy you can use this notebook:\n",
    "- [Benchmarking a novel AL query strategy](../examples/benchmark_custom_strategy.ipynb)\n",
    "\n",
    "For example of data postprocessing please refer to this notebook:\n",
    "- [Example of data postprocessing]()"
   ]
  },
  {
   "cell_type": "markdown",
   "metadata": {
    "pycharm": {
     "name": "#%% md\n"
    }
   },
   "source": [
    "## Annotation"
   ]
  },
  {
   "cell_type": "code",
   "execution_count": null,
   "metadata": {
    "pycharm": {
     "name": "#%%\n"
    }
   },
   "outputs": [],
   "source": [
    "%matplotlib inline\n",
    "\n",
    "import os\n",
    "import sys\n",
    "\n",
    "sys.path.append(\"../\")\n",
    "os.environ[\"DATASET_PATH\"] = \"./data/NER\"\n",
    "os.environ[\"CONFIG_NAME\"] = \"al_ner\"\n",
    "\n",
    "from demo_system import *\n",
    "\n",
    "demo = DemoSystem()"
   ]
  },
  {
   "cell_type": "code",
   "execution_count": null,
   "metadata": {
    "pycharm": {
     "name": "#%%\n"
    }
   },
   "outputs": [],
   "source": [
    "demo.show()"
   ]
  },
  {
   "cell_type": "code",
   "execution_count": null,
   "metadata": {
    "pycharm": {
     "name": "#%%\n"
    }
   },
   "outputs": [],
   "source": [
    "demo.evaluate_model()"
   ]
  },
  {
   "cell_type": "code",
   "execution_count": null,
   "metadata": {
    "pycharm": {
     "name": "#%%\n"
    }
   },
   "outputs": [],
   "source": [
    "demo.predict(\"Hello, this is John Doe from BBC Headquaters in London, UK.\")"
   ]
  },
  {
   "cell_type": "markdown",
   "metadata": {
    "pycharm": {
     "name": "#%% md\n"
    }
   },
   "source": [
    "## Post-processing of annotated data"
   ]
  },
  {
   "cell_type": "code",
   "execution_count": null,
   "metadata": {
    "pycharm": {
     "name": "#%%\n"
    }
   },
   "outputs": [],
   "source": [
    "from acleto.post_processing.pipeline_plasm import pipeline_plasm\n",
    "\n",
    "config_name = \"ner_plasm\"\n",
    "data_dir = os.environ[\"DATASET_PATH\"] + \"/conll2003\"\n",
    "annotation_dir = \"output/conll2003\"\n",
    "\n",
    "data, model = pipeline_plasm(\n",
    "    config_name=config_name, data_dir=data_dir, annotation_or_annotation_dir=annotation_dir, train_model=True\n",
    ")"
   ]
  },
  {
   "cell_type": "code",
   "execution_count": null,
   "metadata": {
    "pycharm": {
     "name": "#%%\n"
    }
   },
   "outputs": [],
   "source": [
    "model.evaluate(demo.system.test_instances)"
   ]
  },
  {
   "cell_type": "code",
   "execution_count": null,
   "metadata": {
    "pycharm": {
     "name": "#%%\n"
    }
   },
   "outputs": [],
   "source": []
  }
 ],
 "metadata": {
  "kernelspec": {
   "display_name": "Python 3 (ipykernel)",
   "language": "python",
   "name": "python3"
  },
  "language_info": {
   "codemirror_mode": {
    "name": "ipython",
    "version": 3
   },
   "file_extension": ".py",
   "mimetype": "text/x-python",
   "name": "python",
   "nbconvert_exporter": "python",
   "pygments_lexer": "ipython3",
   "version": "3.7.12"
  }
 },
 "nbformat": 4,
 "nbformat_minor": 4
}