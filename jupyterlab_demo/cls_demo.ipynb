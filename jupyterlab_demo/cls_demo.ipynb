{
 "cells": [
  {
   "cell_type": "markdown",
   "metadata": {
    "pycharm": {
     "name": "#%% md\n"
    }
   },
   "source": [
    "## ALToolbox demo for Text Classification\n",
    "Example notebooks of annotation for different NLP tasks:\n",
    "- [Example of annotation for NER task](ner_demo.ipynb)\n",
    "- [Example of annotation for text classification task](cls_demo.ipynb)\n",
    "\n",
    "To use custom data in these notebooks you could use following notebooks:\n",
    "- [Prepare data for token classification tasks](prepare_ner_dataset.ipynb)\n",
    "- [Prepare data for text classification_tasks](prepare_cls_dataset.ipynb)\n",
    "\n",
    "To benchmark a novel query stategy you can use this notebook:\n",
    "- [Benchmarking a novel AL query strategy](../examples/benchmark_custom_strategy.ipynb)\n",
    "\n",
    "For example of data postprocessing please refer to this notebook:\n",
    "- [Example of data postprocessing]()"
   ]
  },
  {
   "cell_type": "code",
   "execution_count": null,
   "metadata": {
    "pycharm": {
     "name": "#%%\n"
    }
   },
   "outputs": [],
   "source": [
    "#!#!#\n",
    "%load_ext autoreload\n",
    "%autoreload 2\n",
    "%matplotlib inline\n",
    "\n",
    "import os\n",
    "os.environ[\"DATASET_PATH\"] = \"./data/CLS\"\n",
    "os.environ['CONFIG_NAME'] = \"al_cls\"\n",
    "\n",
    "\n",
    "from demo_system import *\n",
    "\n",
    "demo = DemoSystem()"
   ]
  },
  {
   "cell_type": "code",
   "execution_count": null,
   "metadata": {
    "scrolled": true,
    "pycharm": {
     "name": "#%%\n"
    }
   },
   "outputs": [],
   "source": [
    "demo.show()"
   ]
  },
  {
   "cell_type": "code",
   "execution_count": null,
   "metadata": {
    "pycharm": {
     "name": "#%%\n"
    }
   },
   "outputs": [],
   "source": [
    "demo.evaluate_model()"
   ]
  },
  {
   "cell_type": "code",
   "execution_count": null,
   "metadata": {
    "pycharm": {
     "name": "#%%\n"
    }
   },
   "outputs": [],
   "source": []
  }
 ],
 "metadata": {
  "kernelspec": {
   "display_name": "Python 3 (ipykernel)",
   "language": "python",
   "name": "python3"
  },
  "language_info": {
   "codemirror_mode": {
    "name": "ipython",
    "version": 3
   },
   "file_extension": ".py",
   "mimetype": "text/x-python",
   "name": "python",
   "nbconvert_exporter": "python",
   "pygments_lexer": "ipython3",
   "version": "3.7.12"
  }
 },
 "nbformat": 4,
 "nbformat_minor": 4
}