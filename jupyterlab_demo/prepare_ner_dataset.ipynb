{
 "cells": [
  {
   "cell_type": "code",
   "execution_count": null,
   "id": "9257845e",
   "metadata": {},
   "outputs": [],
   "source": [
    "from datasets import load_dataset, concatenate_datasets\n",
    "import numpy as np\n",
    "from pathlib import Path"
   ]
  },
  {
   "cell_type": "markdown",
   "id": "aae55155",
   "metadata": {},
   "source": [
    "###### Load NER dataset from Huggingface Hub"
   ]
  },
  {
   "cell_type": "code",
   "execution_count": null,
   "id": "9a39eecb",
   "metadata": {},
   "outputs": [],
   "source": [
    "_ds = load_dataset(\"conll2003\")\n",
    "train, dev, test = _ds[\"train\"], _ds[\"validation\"], _ds[\"test\"]"
   ]
  },
  {
   "cell_type": "code",
   "execution_count": null,
   "id": "9b65744c",
   "metadata": {},
   "outputs": [],
   "source": [
    "train = train.remove_columns(['pos_tags', 'chunk_tags'])\n",
    "dev = dev.remove_columns(['pos_tags', 'chunk_tags'])\n",
    "test = test.remove_columns(['pos_tags', 'chunk_tags'])"
   ]
  },
  {
   "cell_type": "code",
   "execution_count": null,
   "id": "35c1705c-aa4e-44c1-817e-7b2f31542d99",
   "metadata": {
    "pycharm": {
     "name": "#%%\n"
    }
   },
   "outputs": [],
   "source": [
    "#filter sequences with empty tag set\n",
    "train = train.filter(lambda x: not all([tg==0 for tg in x[\"ner_tags\"]]))\n",
    "#filter sequences shorter than 8 tokens\n",
    "train = train.filter(lambda x: len([token for token in x[\"tokens\"]])>=8)\n",
    "#get subset for test data to reduce model evaluation time \n",
    "test = test.select(range(1000))"
   ]
  },
  {
   "cell_type": "code",
   "execution_count": null,
   "id": "17a5aec7",
   "metadata": {},
   "outputs": [],
   "source": [
    "labeled, unlabeled = train.train_test_split(train_size=200).values()\n",
    "unlabeled = unlabeled.remove_columns('ner_tags')"
   ]
  },
  {
   "cell_type": "code",
   "execution_count": null,
   "id": "0788f229",
   "metadata": {},
   "outputs": [],
   "source": [
    "data_path = './data/NER/conll2003/' \n",
    "\n",
    "labeled.to_json(Path(data_path) / 'labeled.json')\n",
    "unlabeled.to_json(Path(data_path) / 'unlabeled.json')\n",
    "test.to_json(Path(data_path) / 'test.json')"
   ]
  },
  {
   "cell_type": "code",
   "execution_count": null,
   "id": "83d6b432",
   "metadata": {},
   "outputs": [],
   "source": [
    "import json\n",
    "\n",
    "with open(Path(data_path) / 'tags.json', 'w') as f:\n",
    "    json.dump(labeled.features['ner_tags'].feature.names, f)"
   ]
  }
 ],
 "metadata": {
  "kernelspec": {
   "display_name": "Python 3 (ipykernel)",
   "language": "python",
   "name": "python3"
  },
  "language_info": {
   "codemirror_mode": {
    "name": "ipython",
    "version": 3
   },
   "file_extension": ".py",
   "mimetype": "text/x-python",
   "name": "python",
   "nbconvert_exporter": "python",
   "pygments_lexer": "ipython3",
   "version": "3.7.12"
  }
 },
 "nbformat": 4,
 "nbformat_minor": 5
}