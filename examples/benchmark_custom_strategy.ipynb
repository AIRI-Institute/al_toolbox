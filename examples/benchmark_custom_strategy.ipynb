{
 "cells": [
  {
   "cell_type": "markdown",
   "id": "568fa282-0a1d-4568-ab7f-8112c7a110d4",
   "metadata": {
    "tags": [],
    "pycharm": {
     "name": "#%% md\n"
    }
   },
   "source": [
    "## How to add new AL query strategies / unlabeled pool subsampling strategies"
   ]
  },
  {
   "cell_type": "markdown",
   "id": "90492c44-fc55-48e5-b416-46d07569f6ce",
   "metadata": {
    "pycharm": {
     "name": "#%% md\n"
    }
   },
   "source": [
    "This notebook demonstrates three simple steps to benchmark a new query / unlabeled pool subsampling strategy."
   ]
  },
  {
   "cell_type": "markdown",
   "id": "457a08c5-f9fc-42de-be73-02dbd2d01364",
   "metadata": {
    "pycharm": {
     "name": "#%% md\n"
    }
   },
   "source": [
    "#### 1. Prepare the file and the global variable"
   ]
  },
  {
   "cell_type": "code",
   "execution_count": 1,
   "id": "bb948181-644a-43a0-9e63-5283d26cbf5a",
   "metadata": {
    "pycharm": {
     "name": "#%%\n"
    }
   },
   "outputs": [],
   "source": [
    "# Where the file with the strategy is located\n",
    "FOLDER_WITH_STRATEGIES = \"custom_strategy\"\n",
    "!mkdir $FOLDER_WITH_STRATEGIES\n",
    "# Name of the AL strategy & file\n",
    "AL_STRATEGY_NAME = \"least_confidence.py\"\n",
    "# Name of the unlabeled pool subsampling strategy addition\n",
    "SUBSAMPLING_STRATEGY_NAME = \"top_from_previous_iteration_subsampling.py\"\n",
    "CUR_PATH = !pwd\n",
    "# Absolute path to the AL strategy\n",
    "PATH_TO_AL_STRATEGY = f\"{CUR_PATH[0]}/{FOLDER_WITH_STRATEGIES}/{AL_STRATEGY_NAME}\"\n",
    "# Absolute path to the strategy\n",
    "PATH_TO_SUBSAMPLING_STRATEGY = (\n",
    "    f\"{CUR_PATH[0]}/{FOLDER_WITH_STRATEGIES}/{SUBSAMPLING_STRATEGY_NAME}\"\n",
    ")"
   ]
  },
  {
   "cell_type": "markdown",
   "id": "b43852b4-381c-4063-a342-50e10f4803da",
   "metadata": {
    "pycharm": {
     "name": "#%% md\n"
    }
   },
   "source": [
    "#### 2. Write your strategies"
   ]
  },
  {
   "cell_type": "code",
   "execution_count": 2,
   "id": "53dc392e-9628-4e91-999f-057d6670cafd",
   "metadata": {
    "pycharm": {
     "name": "#%%\n"
    }
   },
   "outputs": [
    {
     "name": "stdout",
     "output_type": "stream",
     "text": [
      "Writing /Users/tsvigun/Anaconda/papers/active_learning/examples/strategy_folder/least_confidence.py\n"
     ]
    }
   ],
   "source": [
    "%%writefile $PATH_TO_AL_STRATEGY\n",
    "\n",
    "import numpy as np\n",
    "\n",
    "def least_confidence(model, X_pool, n_instances, **kwargs):\n",
    "    probas = model.predict_proba(X_pool)\n",
    "    uncertainty_estimates = 1 - probas.max(axis=1)\n",
    "    query_idx = np.argsort(-uncertainty_estimates)[:n_instances]\n",
    "    query = X_pool.select(query_idx)\n",
    "    return query_idx, query, uncertainty_estimates"
   ]
  },
  {
   "cell_type": "code",
   "execution_count": 3,
   "id": "212ca7da-795b-47c7-80a1-e92407b78ca1",
   "metadata": {
    "pycharm": {
     "name": "#%%\n"
    }
   },
   "outputs": [
    {
     "name": "stdout",
     "output_type": "stream",
     "text": [
      "Writing /Users/tsvigun/Anaconda/papers/active_learning/examples/strategy_folder/top_from_previous_iteration_subsampling.py\n"
     ]
    }
   ],
   "source": [
    "%%writefile $PATH_TO_SUBSAMPLING_STRATEGY\n",
    "\n",
    "import numpy as np\n",
    "\n",
    "def top_from_previous_iteration_subsampling(uncertainty_estimates, gamma_or_k_confident_to_save, **kwargs):\n",
    "    if isinstance(gamma_or_k_confident_to_save, float):\n",
    "        gamma_or_k_confident_to_save = int(\n",
    "            gamma_or_k_confident_to_save * len(uncertainty_estimates)\n",
    "        )\n",
    "    argsort = np.argsort(-uncertainty_estimates)\n",
    "    return argsort[:gamma_or_k_confident_to_save]"
   ]
  },
  {
   "cell_type": "markdown",
   "id": "21d6a580-3f60-4a11-8137-99f58723b867",
   "metadata": {
    "pycharm": {
     "name": "#%% md\n"
    }
   },
   "source": [
    "#### 3. Use your strategies:\n",
    "\n",
    "- AL strategy: `config.al.strategy=$PATH_TO_AL_STRATEGY`\n",
    "\n",
    "- Unlabeled pool subsampling strategy: `config.al.sampling_type=$PATH_TO_SUBSAMPLING_STRATEGY`"
   ]
  },
  {
   "cell_type": "markdown",
   "id": "012a9bbc-3d40-4b43-a7f8-565eb85b9d9e",
   "metadata": {
    "pycharm": {
     "name": "#%% md\n"
    }
   },
   "source": [
    "Test with 1 GPU: (substitute `custom_strategy/least_confidence` & `custom_strategy/top_from_previous_iteration_subsampling` with your strategies name)"
   ]
  },
  {
   "cell_type": "code",
   "execution_count": null,
   "id": "f45045b6-e72a-4cfc-bbf7-8a8c6ba43756",
   "metadata": {
    "tags": [],
    "pycharm": {
     "name": "#%%\n",
     "is_executing": true
    }
   },
   "outputs": [],
   "source": [
    "%%bash\n",
    "CUDA_VISIBLE_DEVICES='0' HYDRA_CONFIG_PATH=../al_benchmark/configs \\\n",
    "HYDRA_CONFIG_NAME=al_cls python ../al_benchmark/run_active_learning.py \\\n",
    "al.strategy=custom_strategy/least_confidence \\\n",
    "al.sampling_type=custom_strategy/top_from_previous_iteration_subsampling \\\n",
    "acquisition_model.checkpoint=roberta-base"
   ]
  },
  {
   "cell_type": "markdown",
   "id": "f5c0b8aa-b8e5-4290-9395-426826bda25d",
   "metadata": {
    "pycharm": {
     "name": "#%% md\n"
    }
   },
   "source": [
    "The results will be located in the file `workdir/run_active_learning/TODAY_DATE/TIME_SEED_MODEL/acquisition_metrics.json`."
   ]
  },
  {
   "cell_type": "code",
   "execution_count": null,
   "id": "4d09cb3f-40b2-408f-a67f-fd6b90e0ec38",
   "metadata": {
    "pycharm": {
     "name": "#%%\n"
    }
   },
   "outputs": [],
   "source": []
  }
 ],
 "metadata": {
  "kernelspec": {
   "display_name": "Python 3 (ipykernel)",
   "language": "python",
   "name": "python3"
  },
  "language_info": {
   "codemirror_mode": {
    "name": "ipython",
    "version": 3
   },
   "file_extension": ".py",
   "mimetype": "text/x-python",
   "name": "python",
   "nbconvert_exporter": "python",
   "pygments_lexer": "ipython3",
   "version": "3.7.12"
  }
 },
 "nbformat": 4,
 "nbformat_minor": 5
}