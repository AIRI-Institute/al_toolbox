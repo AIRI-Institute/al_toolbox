{
 "cells": [
  {
   "cell_type": "markdown",
   "id": "568fa282-0a1d-4568-ab7f-8112c7a110d4",
   "metadata": {
    "pycharm": {
     "name": "#%% md\n"
    },
    "tags": []
   },
   "source": [
    "## How to add new PyTorch model for benchmarking"
   ]
  },
  {
   "cell_type": "markdown",
   "id": "90492c44-fc55-48e5-b416-46d07569f6ce",
   "metadata": {
    "pycharm": {
     "name": "#%% md\n"
    }
   },
   "source": [
    "This notebook demonstrates three simple steps to benchmark a model for classification or NER task."
   ]
  },
  {
   "cell_type": "markdown",
   "id": "457a08c5-f9fc-42de-be73-02dbd2d01364",
   "metadata": {
    "pycharm": {
     "name": "#%% md\n"
    }
   },
   "source": [
    "#### 1. Prepare the file with custom model and load it"
   ]
  },
  {
   "cell_type": "code",
   "execution_count": null,
   "id": "bb948181-644a-43a0-9e63-5283d26cbf5a",
   "metadata": {
    "pycharm": {
     "name": "#%%\n"
    }
   },
   "outputs": [],
   "source": [
    "# Where the file with the model is located\n",
    "FOLDER_WITH_MODELS = \"custom_models\"\n",
    "# Name of the model file\n",
    "MODEL_FILE_NAME_CLS = \"pytorch_cls.py\"\n",
    "MODEL_FILE_NAME_NER = \"pytorch_ner.py\"\n",
    "CUR_PATH = !pwd\n",
    "# Absolute path to the model\n",
    "PATH_TO_CLS_MODEL = f\"{CUR_PATH[0]}/{FOLDER_WITH_MODELS}/{MODEL_FILE_NAME_CLS}\"\n",
    "PATH_TO_NER_MODEL = f\"{CUR_PATH[0]}/{FOLDER_WITH_MODELS}/{MODEL_FILE_NAME_NER}\""
   ]
  },
  {
   "cell_type": "markdown",
   "id": "de9bf76f-77fc-415f-90c2-abbb245a6f3b",
   "metadata": {},
   "source": [
    "Note that the model file has the following limitations:\n",
    "1. There has to be a dictionary named MODELS_DICT with \"model\" and \"constructor\" keys\n",
    "2. The \"model\" key should have value with your custom model name\n",
    "3. The \"constructor\" key should have value with your constructor function name\n",
    "4. The model class should have the same methods as implemented in the example\n",
    "5. The constructor function should build and return the model and tokenizer\n",
    "6. For more precise control of custom model parameters you could add any additional entries in the model section of config and use them inside model"
   ]
  },
  {
   "cell_type": "markdown",
   "id": "21d6a580-3f60-4a11-8137-99f58723b867",
   "metadata": {
    "pycharm": {
     "name": "#%% md\n"
    }
   },
   "source": [
    "#### 2. Train and evaluate your model:\n",
    "\n",
    "- Model file: `config.acquisition_model.checkpoint=$PATH_TO_MODEL_FILE`\n",
    "\n",
    "- Model parameters could be added to acquisition_model section: `config.acquisition_model.$YOUR_CUSTOM_PARAMETER_NAME=$YOUR_CUSTOM_PARAMETER_VALUE`\n",
    "\n",
    "Note that the model key depends on the type of experiment and config and could be either \"model\", \"acquisition_model\", \"successor_model\" or \"target_model\""
   ]
  },
  {
   "cell_type": "markdown",
   "id": "012a9bbc-3d40-4b43-a7f8-565eb85b9d9e",
   "metadata": {
    "pycharm": {
     "name": "#%% md\n"
    }
   },
   "source": [
    "Test with 1 GPU: (substitute `custom_model/pytorch_cls.py` with your model filename)"
   ]
  },
  {
   "cell_type": "code",
   "execution_count": null,
   "id": "f45045b6-e72a-4cfc-bbf7-8a8c6ba43756",
   "metadata": {
    "pycharm": {
     "is_executing": true,
     "name": "#%%\n"
    },
    "tags": []
   },
   "outputs": [],
   "source": [
    "%%bash\n",
    "CUDA_VISIBLE_DEVICES='0' HYDRA_CONFIG_PATH=../al_benchmark/configs \\\n",
    "HYDRA_CONFIG_NAME=al_cls_cnn python ../al_benchmark/run_active_learning.py \\\n",
    "acquisition_model.checkpoint=PATH_TO_CLS_MODEL"
   ]
  },
  {
   "cell_type": "markdown",
   "id": "f5c0b8aa-b8e5-4290-9395-426826bda25d",
   "metadata": {
    "pycharm": {
     "name": "#%% md\n"
    }
   },
   "source": [
    "The results will be located in the file `workdir/run_active_learning/TODAY_DATE/TIME_SEED_MODEL/acquisition_metrics.json`."
   ]
  },
  {
   "cell_type": "markdown",
   "id": "a858fceb-9f6d-4178-ae41-a372ac3646d5",
   "metadata": {},
   "source": [
    "The same approach is also supported for the NER task:"
   ]
  },
  {
   "cell_type": "code",
   "execution_count": null,
   "id": "521e6500-0c9e-41b0-a9e8-ffef1d5f701c",
   "metadata": {},
   "outputs": [],
   "source": [
    "%%bash\n",
    "CUDA_VISIBLE_DEVICES='0' HYDRA_CONFIG_PATH=../al_benchmark/configs \\\n",
    "HYDRA_CONFIG_NAME=al_ner_bilstm python ../al_benchmark/run_active_learning.py \\\n",
    "acquisition_model.checkpoint=PATH_TO_NER_MODEL"
   ]
  },
  {
   "cell_type": "code",
   "execution_count": null,
   "id": "4f6f90b7-4b1f-49e0-8cb1-8645f71218ca",
   "metadata": {},
   "outputs": [],
   "source": []
  }
 ],
 "metadata": {
  "kernelspec": {
   "display_name": "al_demo_env",
   "language": "python",
   "name": "al_demo_env"
  },
  "language_info": {
   "codemirror_mode": {
    "name": "ipython",
    "version": 3
   },
   "file_extension": ".py",
   "mimetype": "text/x-python",
   "name": "python",
   "nbconvert_exporter": "python",
   "pygments_lexer": "ipython3",
   "version": "3.7.12"
  }
 },
 "nbformat": 4,
 "nbformat_minor": 5
}
